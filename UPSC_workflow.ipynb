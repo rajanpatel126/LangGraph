{
 "cells": [
  {
   "cell_type": "code",
   "execution_count": 45,
   "id": "930762c8",
   "metadata": {},
   "outputs": [
    {
     "data": {
      "text/plain": [
       "True"
      ]
     },
     "execution_count": 45,
     "metadata": {},
     "output_type": "execute_result"
    }
   ],
   "source": [
    "from langgraph.graph import StateGraph, START, END\n",
    "from typing import TypedDict, Annotated\n",
    "from langchain_openai import ChatOpenAI\n",
    "from dotenv import load_dotenv\n",
    "from pydantic import BaseModel, Field\n",
    "import operator # reducer function needed to merge the results\n",
    "\n",
    "load_dotenv()"
   ]
  },
  {
   "cell_type": "code",
   "execution_count": 46,
   "id": "302c8802",
   "metadata": {},
   "outputs": [],
   "source": [
    "model = ChatOpenAI(model='gpt-4o-mini') # for structured output compatatbility"
   ]
  },
  {
   "cell_type": "code",
   "execution_count": 47,
   "metadata": {},
   "outputs": [],
   "source": [
    "class Evaluation(BaseModel):\n",
    "    feedback: str = Field(description=\"Detailed feedback on the Essay\")\n",
    "    score: int = Field(description='Score on Essay out of 10', ge=0, le=10)"
   ]
  },
  {
   "cell_type": "code",
   "execution_count": 48,
   "id": "cefb3fa1",
   "metadata": {},
   "outputs": [],
   "source": [
    "structured_model = model.with_structured_output(Evaluation)"
   ]
  },
  {
   "cell_type": "code",
   "execution_count": 49,
   "id": "f64b15cb",
   "metadata": {},
   "outputs": [],
   "source": [
    "essay = \"\"\"\n",
    "Donald Trump vs. Elon Musk : A Hypothetical Election Showdown\n",
    "\n",
    "In the realm of politics and business, few figures capture public imagination quite like Donald Trump and Elon Musk. Both men have dominated headlines for years, albeit in very different ways—Trump as a real-estate mogul turned President of the United States, and Musk as an innovator who has revolutionised industries with Tesla, SpaceX, and other ventures. If these two personalities were to face each other in a political election, the contest would be unlike any the modern world has witnessed.\n",
    "\n",
    "Trump’s Political Persona\n",
    "Donald Trump is no stranger to elections. He brings to the table his identity as a former U.S. president, his base of loyal supporters, and his well-honed ability to channel populist rhetoric. Trump has positioned himself as a champion of the “forgotten American,” leveraging nationalism, cultural conservatism, and a combative style to mobilise millions. His experience in rallies, political debates, and policy messaging provides him with a ready-made political machine.\n",
    "\n",
    "Musk’s Technological Vision\n",
    "Elon Musk, by contrast, would represent the archetype of the visionary outsider. With his reputation as a technological pioneer, Musk appeals to those who see innovation and science as the future of society. His popularity on social media and ability to influence markets through a single tweet underscore his charisma among tech-savvy younger demographics. Unlike Trump, Musk is not aligned with traditional political ideologies; instead, he projects a futuristic narrative centred on space exploration, renewable energy, and artificial intelligence.\n",
    "\n",
    "Comparing Their Appeal\n",
    "The election would come down to which vision resonates more: Trump’s populism rooted in tradition and national pride, or Musk’s disruptive, forward-looking approach. Trump’s advantage lies in his established political brand and experience mobilising voters. Musk’s strength lies in his ability to attract independents, younger voters, and those disillusioned with conventional politics.\n",
    "\n",
    "However, Musk’s lack of political experience could be a significant hurdle. Navigating governance, diplomacy, and the complexities of policy-making requires skills Musk has yet to demonstrate. On the other hand, Trump’s divisiveness may alienate moderate voters who might find Musk’s outsider status refreshing.\n",
    "\n",
    "Conclusion\n",
    "A Trump-Musk election would not simply be a battle of policies but of narratives: one grounded in nostalgia and national identity, the other in innovation and the promise of a technological future. Both candidates would carry unique advantages and disadvantages, making the outcome uncertain. What is clear, however, is that such a contest would redefine the way the world thinks about leadership, politics, and the intersection of power, personality, and progress.\n",
    "\"\"\""
   ]
  },
  {
   "cell_type": "code",
   "execution_count": 50,
   "id": "c06549ac",
   "metadata": {},
   "outputs": [],
   "source": [
    "class UPSCstate(TypedDict):\n",
    "    essay: str\n",
    "    language_feedback: str\n",
    "    analysis_feedback: str\n",
    "    clarity_feedback: str\n",
    "    overall_feedback: str\n",
    "    individual_scores: Annotated[list[int], operator.add] # the 3 different feedback scores are coming in a separate list, but we are going to combine all 3 values in one list. so, I have used the reducer function.\n",
    "    average_score: float"
   ]
  },
  {
   "cell_type": "code",
   "execution_count": 51,
   "id": "2f4b3d2c",
   "metadata": {},
   "outputs": [],
   "source": [
    "def language_evaluation(state: UPSCstate) -> UPSCstate:\n",
    "    prompt = f'Evaluate the language quality of the following Essay and provide feedback and a score out of 10:\\n{state[\"essay\"]}'\n",
    "    output = structured_model.invoke(prompt)\n",
    "\n",
    "    return {'language_feedback': output.feedback, 'individual_scores': [output.score]} # type: ignore"
   ]
  },
  {
   "cell_type": "code",
   "execution_count": 52,
   "id": "8aac8efb",
   "metadata": {},
   "outputs": [],
   "source": [
    "def analysis_evaluation(state: UPSCstate) -> UPSCstate:\n",
    "    prompt = f'Evaluate the depth of analysis of the following Essay and provide feedback and a score out of 10:\\n{state[\"essay\"]}'\n",
    "    output = structured_model.invoke(prompt)\n",
    "\n",
    "    return {'analysis_feedback': output.feedback, 'individual_scores': [output.score]} # type: ignore"
   ]
  },
  {
   "cell_type": "code",
   "execution_count": 53,
   "id": "053970b8",
   "metadata": {},
   "outputs": [],
   "source": [
    "def clarity_evaluation(state: UPSCstate) -> UPSCstate:\n",
    "    prompt = f'Evaluate the clarity of thought in the following Essay and provide feedback and a score out of 10:\\n{state[\"essay\"]}'\n",
    "    output = structured_model.invoke(prompt)\n",
    "\n",
    "    return {'clarity_feedback': output.feedback, 'individual_scores': [output.score]} # type: ignore"
   ]
  },
  {
   "cell_type": "code",
   "execution_count": 54,
   "id": "3bf0430f",
   "metadata": {},
   "outputs": [],
   "source": [
    "def final_evaluation(state: UPSCstate) -> UPSCstate:\n",
    "    prompt = f'Based on the following feedback, create a summerised feedback - \\n {state[\"analysis_feedback\"]}, {state[\"clarity_feedback\"]}, {state[\"language_feedback\"]}'\n",
    "    overall_feedback = model.invoke(prompt).content\n",
    "\n",
    "    # average calculation\n",
    "    average_score = sum(state['individual_scores']) / len(state['individual_scores'])\n",
    "    return {'overall_feedback': overall_feedback, 'average_score': average_score} # type: ignore"
   ]
  },
  {
   "cell_type": "code",
   "execution_count": 55,
   "metadata": {},
   "outputs": [],
   "source": [
    "# create graph\n",
    "graph = StateGraph(UPSCstate)\n",
    "\n",
    "# add nodes\n",
    "graph.add_node('language_evaluation',language_evaluation)\n",
    "graph.add_node('analysis_evaluation',analysis_evaluation)\n",
    "graph.add_node('clarity_evaluation',clarity_evaluation)\n",
    "graph.add_node('final_evaluation',final_evaluation)\n",
    "\n",
    "# add edges\n",
    "graph.add_edge(START, 'language_evaluation')\n",
    "graph.add_edge(START, 'analysis_evaluation')\n",
    "graph.add_edge(START, 'clarity_evaluation')\n",
    "graph.add_edge('language_evaluation', 'final_evaluation')\n",
    "graph.add_edge('analysis_evaluation', 'final_evaluation')\n",
    "graph.add_edge('clarity_evaluation', 'final_evaluation')\n",
    "graph.add_edge('final_evaluation', END)\n",
    "\n",
    "# compile graph\n",
    "workflow = graph.compile()"
   ]
  },
  {
   "cell_type": "code",
   "execution_count": 56,
   "id": "0ccaff70",
   "metadata": {},
   "outputs": [
    {
     "data": {
      "image/png": "[encoded data removed]",
      "text/plain": [
       "<IPython.core.display.Image object>"
      ]
     },
     "execution_count": 56,
     "metadata": {},
     "output_type": "execute_result"
    }
   ],
   "source": [
    "from IPython.display import Image\n",
    "Image(workflow.get_graph().draw_mermaid_png())"
   ]
  },
  {
   "cell_type": "code",
   "execution_count": 58,
   "id": "9d59a05a",
   "metadata": {},
   "outputs": [],
   "source": [
    "# initial state\n",
    "initial_state = {'essay': essay}\n",
    "\n",
    "# final state\n",
    "final_state = workflow.invoke(initial_state) # type: ignore"
   ]
  },
  {
   "cell_type": "code",
   "execution_count": 59,
   "id": "8c494097",
   "metadata": {},
   "outputs": [
    {
     "data": {
      "text/plain": [
       "{'essay': '\\nDonald Trump vs. Elon Musk : A Hypothetical Election Showdown\\n\\nIn the realm of politics and business, few figures capture public imagination quite like Donald Trump and Elon Musk. Both men have dominated headlines for years, albeit in very different ways—Trump as a real-estate mogul turned President of the United States, and Musk as an innovator who has revolutionised industries with Tesla, SpaceX, and other ventures. If these two personalities were to face each other in a political election, the contest would be unlike any the modern world has witnessed.\\n\\nTrump’s Political Persona\\nDonald Trump is no stranger to elections. He brings to the table his identity as a former U.S. president, his base of loyal supporters, and his well-honed ability to channel populist rhetoric. Trump has positioned himself as a champion of the “forgotten American,” leveraging nationalism, cultural conservatism, and a combative style to mobilise millions. His experience in rallies, political debates, and policy messaging provides him with a ready-made political machine.\\n\\nMusk’s Technological Vision\\nElon Musk, by contrast, would represent the archetype of the visionary outsider. With his reputation as a technological pioneer, Musk appeals to those who see innovation and science as the future of society. His popularity on social media and ability to influence markets through a single tweet underscore his charisma among tech-savvy younger demographics. Unlike Trump, Musk is not aligned with traditional political ideologies; instead, he projects a futuristic narrative centred on space exploration, renewable energy, and artificial intelligence.\\n\\nComparing Their Appeal\\nThe election would come down to which vision resonates more: Trump’s populism rooted in tradition and national pride, or Musk’s disruptive, forward-looking approach. Trump’s advantage lies in his established political brand and experience mobilising voters. Musk’s strength lies in his ability to attract independents, younger voters, and those disillusioned with conventional politics.\\n\\nHowever, Musk’s lack of political experience could be a significant hurdle. Navigating governance, diplomacy, and the complexities of policy-making requires skills Musk has yet to demonstrate. On the other hand, Trump’s divisiveness may alienate moderate voters who might find Musk’s outsider status refreshing.\\n\\nConclusion\\nA Trump-Musk election would not simply be a battle of policies but of narratives: one grounded in nostalgia and national identity, the other in innovation and the promise of a technological future. Both candidates would carry unique advantages and disadvantages, making the outcome uncertain. What is clear, however, is that such a contest would redefine the way the world thinks about leadership, politics, and the intersection of power, personality, and progress.\\n',\n",
       " 'language_feedback': \"The essay presents a clear and structured analysis of a hypothetical election showdown between Donald Trump and Elon Musk. The language quality is generally high, with effective use of vocabulary and varied sentence structures that enhance readability. The author successfully establishes distinct identities for both men in the political arena and highlights their respective strengths and weaknesses. The comparisons made are insightful, particularly in discussing the different appeal each candidate has to various demographics. \\n\\nHowever, there are some areas where the essay could improve. The opening paragraph, while engaging, could benefit from a stronger thesis statement that encapsulates the main argument or direction of the analysis. Additionally, the essay occasionally falls into generalizations, such as when discussing Trump’s populism and Musk’s outsider status; deeper analysis or examples would strengthen these points. The conclusion effectively summarizes the discussion but could be enhanced by reiterating the implications of their potential match-up for future political landscapes. Overall, it's a well-articulated essay with room for further depth and specificity.\",\n",
       " 'analysis_feedback': \"The essay offers a solid analysis of the contrasting political personas and public appeals of Donald Trump and Elon Musk. It effectively outlines Trump's established political brand and experience compared to Musk's outsider status and technological vision. The structure of the essay is coherent, moving logically from the introduction to the analysis of each candidate, and finally to a comparative conclusion.\\n\\nHowever, the depth of analysis could be improved by including a more nuanced discussion of their respective policies, past electoral performances, and public perceptions beyond just personality traits and general themes. Additionally, engagement with potential voter demographics could benefit from statistical data or references to studies that demonstrate their voting inclinations. Situating their hypothetical election within the current political climate, or exploring the implications of such a matchup on global politics, would provide further depth. Including counterarguments or alternative viewpoints on their approaches could also enrich the analysis.\",\n",
       " 'clarity_feedback': \"The essay presents a clear and coherent argument regarding a hypothetical election between Donald Trump and Elon Musk. The author effectively contrasts Trump’s established political persona with Musk’s status as a technological visionary, highlighting their respective strengths and weaknesses. Each section is well-organized, beginning with an introduction that sets the stage, followed by detailed explorations of Trump and Musk's characters and a comparative analysis of their appeal to voters. The conclusion effectively summarizes the main points while emphasizing the broader implications of such a contest. \\n\\nHowever, the essay could benefit from more depth in terms of historical context and potential voter demographics. Providing specific examples or polling data regarding public perception of both figures could enhance the analysis. Additionally, there is a slight redundancy in repeating the notions of their strengths and weaknesses, which could be made more concise. Overall, the clarity of thought is strong, but a bit more elaboration and depth of argument could improve the essay significantly.\",\n",
       " 'overall_feedback': \"The essay provides a solid and structured analysis of the contrasting political personas of Donald Trump and Elon Musk, effectively outlining Trump's established political brand against Musk's outsider status and technological vision. The coherent organization, from a clear introduction to detailed explorations of each candidate, culminates in a comparative conclusion that highlights their appeal to voters.\\n\\nTo enhance the analysis, the essay should delve deeper into their respective policies, historical contexts, past electoral performances, and public perceptions beyond personality traits. Engaging with voter demographics through statistical data or studies would strengthen the argument, as would situating their hypothetical election within the current political climate and exploring its implications on global politics. Additionally, incorporating counterarguments or alternative viewpoints would enrich the discussion.\\n\\nWhile the clarity and language quality are commendable, the opening could benefit from a stronger thesis statement. The occasional redundancy in discussing strengths and weaknesses suggests opportunities for conciseness. Overall, the essay is well-articulated but could significantly improve with greater depth and specificity.\",\n",
       " 'individual_scores': [7, 8, 8],\n",
       " 'average_score': 7.666666666666667}"
      ]
     },
     "execution_count": 59,
     "metadata": {},
     "output_type": "execute_result"
    }
   ],
   "source": [
    "final_state"
   ]
  }
 ],
 "metadata": {
  "kernelspec": {
   "display_name": "venv",
   "language": "python",
   "name": "python3"
  },
  "language_info": {
   "codemirror_mode": {
    "name": "ipython",
    "version": 3
   },
   "file_extension": ".py",
   "mimetype": "text/x-python",
   "name": "python",
   "nbconvert_exporter": "python",
   "pygments_lexer": "ipython3",
   "version": "3.9.13"
  }
 },
 "nbformat": 4,
 "nbformat_minor": 5
}
