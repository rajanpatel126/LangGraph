{
 "cells": [
  {
   "cell_type": "code",
   "execution_count": 19,
   "id": "52576d42",
   "metadata": {},
   "outputs": [],
   "source": [
    "#importing libraries\n",
    "from langgraph.graph import StateGraph, START, END\n",
    "from typing import TypedDict"
   ]
  },
  {
   "cell_type": "code",
   "execution_count": 20,
   "id": "a42814f8",
   "metadata": {},
   "outputs": [],
   "source": [
    "#define state\n",
    "class BMIState(TypedDict):\n",
    "    weight: float\n",
    "    height: float\n",
    "    bmi: float\n",
    "    category: str"
   ]
  },
  {
   "cell_type": "code",
   "execution_count": 21,
   "id": "77a70146",
   "metadata": {},
   "outputs": [],
   "source": [
    "def calculate_bmi(state: BMIState) -> BMIState:\n",
    "    weight = state['weight']\n",
    "    height = state['height']\n",
    "    bmi = weight / (height ** 2)\n",
    "    state['bmi'] = bmi\n",
    "    return state"
   ]
  },
  {
   "cell_type": "code",
   "execution_count": 22,
   "id": "69ba39ce",
   "metadata": {},
   "outputs": [],
   "source": [
    "def determine_bmi_category(state: BMIState) -> BMIState:\n",
    "    bmi = state['bmi']\n",
    "    if bmi < 18.5:\n",
    "        state['category'] = 'Underweight'\n",
    "    elif 18.5 <= bmi < 24.9:\n",
    "        state['category'] = 'Normal weight'\n",
    "    elif 25 <= bmi < 29.9:\n",
    "        state['category'] = 'Overweight'\n",
    "    else:\n",
    "        state['category'] = 'Obesity'\n",
    "    return state"
   ]
  },
  {
   "cell_type": "code",
   "execution_count": 23,
   "id": "cfdc9213",
   "metadata": {},
   "outputs": [],
   "source": [
    "#define graph\n",
    "graph = StateGraph(BMIState)\n",
    "\n",
    "# add nodes\n",
    "graph.add_node('calculate_bmi', calculate_bmi)\n",
    "graph.add_node('determine_bmi_category', determine_bmi_category)\n",
    "\n",
    "# add edges\n",
    "graph.add_edge(START, 'calculate_bmi')\n",
    "graph.add_edge('calculate_bmi', 'determine_bmi_category')\n",
    "graph.add_edge('determine_bmi_category', END)\n",
    "\n",
    "# compile the graph\n",
    "workflow = graph.compile()"
   ]
  },
  {
   "cell_type": "code",
   "execution_count": 24,
   "id": "a286d8d8",
   "metadata": {},
   "outputs": [
    {
     "name": "stdout",
     "output_type": "stream",
     "text": [
      "BMI: {'weight': 90, 'height': 1.74, 'bmi': 29.72651605231867, 'category': 'Overweight'}\n"
     ]
    }
   ],
   "source": [
    "# execute the graph\n",
    "initial_state: BMIState = {'weight': 90, 'height': 1.74}  # type: ignore\n",
    "final_state = workflow.invoke(initial_state)\n",
    "\n",
    "print(f\"BMI: {final_state}\")"
   ]
  },
  {
   "cell_type": "code",
   "execution_count": 25,
   "id": "a7d88372",
   "metadata": {},
   "outputs": [
    {
     "data": {
      "image/png": "[encoded data removed]",
      "text/plain": [
       "<IPython.core.display.Image object>"
      ]
     },
     "execution_count": 25,
     "metadata": {},
     "output_type": "execute_result"
    }
   ],
   "source": [
    "from IPython.display import Image\n",
    "Image(workflow.get_graph().draw_mermaid_png())"
   ]
  }
 ],
 "metadata": {
  "kernelspec": {
   "display_name": "venv",
   "language": "python",
   "name": "python3"
  },
  "language_info": {
   "codemirror_mode": {
    "name": "ipython",
    "version": 3
   },
   "file_extension": ".py",
   "mimetype": "text/x-python",
   "name": "python",
   "nbconvert_exporter": "python",
   "pygments_lexer": "ipython3",
   "version": "3.9.13"
  }
 },
 "nbformat": 4,
 "nbformat_minor": 5
}
