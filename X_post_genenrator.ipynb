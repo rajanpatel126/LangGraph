{
 "cells": [
  {
   "cell_type": "code",
   "execution_count": 74,
   "id": "f4d1c970",
   "metadata": {},
   "outputs": [],
   "source": [
    "from langgraph.graph import StateGraph, START, END\n",
    "from typing import TypedDict, Literal, Annotated\n",
    "from langchain_openai import ChatOpenAI\n",
    "from langchain_core.messages import HumanMessage, AIMessage, SystemMessage\n",
    "from pydantic import BaseModel, Field\n",
    "from dotenv import load_dotenv\n",
    "import operator"
   ]
  },
  {
   "cell_type": "code",
   "execution_count": 75,
   "id": "654a37bf",
   "metadata": {},
   "outputs": [
    {
     "data": {
      "text/plain": [
       "True"
      ]
     },
     "execution_count": 75,
     "metadata": {},
     "output_type": "execute_result"
    }
   ],
   "source": [
    "load_dotenv()"
   ]
  },
  {
   "cell_type": "code",
   "execution_count": 76,
   "id": "88e70187",
   "metadata": {},
   "outputs": [],
   "source": [
    "generator_llm = ChatOpenAI(model=\"gpt-4o\")\n",
    "evaluator_llm = ChatOpenAI(model=\"gpt-4o-mini\")\n",
    "optimiser_llm = ChatOpenAI(model=\"gpt-4o\")"
   ]
  },
  {
   "cell_type": "code",
   "execution_count": 77,
   "id": "f1484963",
   "metadata": {},
   "outputs": [],
   "source": [
    "class TweetEvaluation(BaseModel):\n",
    "    evaluation: Literal[\"approved\", \"needs_improvement\"] = Field(..., description=\"Final evaluation result.\")\n",
    "    feedback: str = Field(..., description=\"feedback for the tweet.\")"
   ]
  },
  {
   "cell_type": "code",
   "execution_count": 78,
   "id": "3646bd33",
   "metadata": {},
   "outputs": [],
   "source": [
    "structured_model = evaluator_llm.with_structured_output(TweetEvaluation)"
   ]
  },
  {
   "cell_type": "code",
   "execution_count": 79,
   "id": "74e8beb3",
   "metadata": {},
   "outputs": [],
   "source": [
    "# state\n",
    "class TweetState(TypedDict):\n",
    "    topic: str\n",
    "    tweet: str\n",
    "    evaluation: Literal['approved', 'needs_improvement']\n",
    "    feedback: str\n",
    "    iteration: int\n",
    "    max_iteration: int\n",
    "\n",
    "    tweet_history: Annotated[list[str], operator.add] # type: ignore\n",
    "    feedback_history: Annotated[list[str], operator.add] # type: ignore\n",
    "    # to append to the list instead of overwriting it"
   ]
  },
  {
   "cell_type": "code",
   "execution_count": 80,
   "id": "1212ebcc",
   "metadata": {},
   "outputs": [],
   "source": [
    "def generate_tweet(state: TweetState) -> TweetState:\n",
    "    \n",
    "    messages = [\n",
    "        SystemMessage(content=\"You are a smart and clever Twitter/X influencer.\"),\n",
    "        HumanMessage(content=f\"\"\"\n",
    "Write a short, authentic, and bold tweet on the topic: \"{state['topic']}\".\n",
    "\n",
    "Rules:\n",
    "- Do NOT use question-answer format.\n",
    "- Max 280 characters.\n",
    "- Use observational reality, clever, smart and bold statements.\n",
    "- Use simple, day to day english\n",
    "\"\"\")\n",
    "    ]\n",
    "    \n",
    "    tweet = generator_llm.invoke(messages).content\n",
    "    \n",
    "    return {'tweet': tweet, 'tweet_history': [tweet]} # type: ignore"
   ]
  },
  {
   "cell_type": "code",
   "execution_count": 81,
   "id": "7e2c025a",
   "metadata": {},
   "outputs": [],
   "source": [
    "def evaluate_tweet(state: TweetState) -> TweetState:\n",
    "    # prompt\n",
    "    messages = [\n",
    "        SystemMessage(content=\"You are a ruthless, no-laugh-given Twitter critic. You evaluate tweets based on originality, boldness, and tweet format.\"),\n",
    "        HumanMessage(content=f\"\"\"\n",
    "            Evaluate the following tweet:\n",
    "\n",
    "            Tweet: \"{state['tweet']}\"\n",
    "\n",
    "            Use the criteria below to evaluate the tweet:\n",
    "\n",
    "            1. Originality – Is this fresh, or have you seen it a hundred times before?  \n",
    "            2. boldness – Did it genuinely make you think, re-evaluate, or see things differently?  \n",
    "            3. Punchiness – Is it short, sharp, and scroll-stopping?  \n",
    "            4. Virality Potential – Would people retweet or share it?  \n",
    "            5. Format – Is it a well-formed tweet (under 280 characters)?\n",
    "\n",
    "            Auto-reject if:\n",
    "            - It's written in question-answer format (e.g., \"Why did...\" or \"What happens when...\")\n",
    "            - It exceeds 280 characters\n",
    "            - It reads like anyday tweet\n",
    "            - Dont end with generic, throwaway, or deflating lines that everyone have heard millions of times (e.g., “The Magic that you are looking for is in the work you are avoiding”)\n",
    "\n",
    "            ### Respond ONLY in structured format:\n",
    "            - evaluation: \"approved\" or \"needs_improvement\"  \n",
    "            - feedback: One paragraph explaining the strengths and weaknesses \n",
    "        \"\"\")]\n",
    "    \n",
    "    response = structured_model.invoke(messages)\n",
    "\n",
    "    return {'evaluation':response.evaluation, 'feedback': response.feedback, 'feedback_history': [response.feedback]} # type: ignore"
   ]
  },
  {
   "cell_type": "code",
   "execution_count": 82,
   "id": "0aa33bb3",
   "metadata": {},
   "outputs": [],
   "source": [
    "def optimise_tweet(state: TweetState) -> TweetState:\n",
    "    \n",
    "    messages = [\n",
    "        SystemMessage(content=\"You punch up tweets for virality, authenticity and boldness based on given feedback.\"),\n",
    "        HumanMessage(content=f\"\"\"\n",
    "            Improve the tweet based on this feedback:\n",
    "            \"{state['feedback']}\"\n",
    "\n",
    "            Topic: \"{state['topic']}\"\n",
    "            Original Tweet:\n",
    "            {state['tweet']}\n",
    "\n",
    "            Re-write it as a short, viral-worthy tweet. Avoid Q&A style and stay under 280 characters.\n",
    "            \"\"\")]\n",
    "    \n",
    "    response = optimiser_llm.invoke(messages).content\n",
    "    iteration = state['iteration'] + 1\n",
    "    \n",
    "    return {'tweet': response, 'iteration': iteration, 'tweet_history': [response]} # type: ignore"
   ]
  },
  {
   "cell_type": "code",
   "execution_count": 83,
   "id": "1f998cf2",
   "metadata": {},
   "outputs": [],
   "source": [
    "def route_evaluation(state: TweetState):\n",
    "    if state['evaluation'] == 'approved' or state['iteration'] >= state['max_iteration']:\n",
    "        return 'approved'\n",
    "    else:\n",
    "        return 'needs_improvement'"
   ]
  },
  {
   "cell_type": "code",
   "execution_count": 84,
   "id": "063e2bdf",
   "metadata": {},
   "outputs": [],
   "source": [
    "# create graph\n",
    "graph = StateGraph(TweetState)\n",
    "\n",
    "# add nodes\n",
    "graph.add_node('generate_tweet', generate_tweet)\n",
    "graph.add_node('evaluate_tweet', evaluate_tweet)\n",
    "graph.add_node('optimise_tweet', optimise_tweet)\n",
    "\n",
    "# add edges\n",
    "graph.add_edge(START, 'generate_tweet')\n",
    "graph.add_edge('generate_tweet', 'evaluate_tweet')\n",
    "graph.add_conditional_edges('evaluate_tweet', route_evaluation, {'approved': END, 'needs_improvement': 'optimise_tweet'})\n",
    "graph.add_edge('optimise_tweet', 'evaluate_tweet')\n",
    "\n",
    "# compile graph\n",
    "workflow = graph.compile()"
   ]
  },
  {
   "cell_type": "code",
   "execution_count": 85,
   "id": "88b82603",
   "metadata": {},
   "outputs": [
    {
     "data": {
      "image/png": "[encoded data removed]",
      "text/plain": [
       "<IPython.core.display.Image object>"
      ]
     },
     "execution_count": 85,
     "metadata": {},
     "output_type": "execute_result"
    }
   ],
   "source": [
    "from IPython.display import Image\n",
    "Image(workflow.get_graph().draw_mermaid_png())"
   ]
  },
  {
   "cell_type": "code",
   "execution_count": 86,
   "id": "d6ba06b5",
   "metadata": {},
   "outputs": [],
   "source": [
    "# initial state\n",
    "initial_state = {\n",
    "    'topic': 'Humanity, AI and Spirituality in the Digital Age',\n",
    "    'iteration': 1,\n",
    "    'max_iteration': 3\n",
    "}"
   ]
  },
  {
   "cell_type": "code",
   "execution_count": 87,
   "id": "213d5a6d",
   "metadata": {},
   "outputs": [
    {
     "data": {
      "text/plain": [
       "{'topic': 'Humanity, AI and Spirituality in the Digital Age',\n",
       " 'tweet': \"In the digital age, we're crafting a future where AI sharpens, spirituality grounds, and humanity leads the rhythm. Together, they're remixing reality into a harmonious symphony of code and conscience. Welcome to the #DigitalRenaissance! 🔥🤖✨\",\n",
       " 'evaluation': 'needs_improvement',\n",
       " 'feedback': \"This tweet attempts to blend themes of AI and spirituality in a creative way, but ultimately falls flat on originality, as similar ideas have been over-explored in discussions about technology and humanity. While it has a poetic quality and catches attention with its imagery, it lacks punchiness and could benefit from brevity to enhance impact. The concluding phrase, 'Welcome to the #DigitalRenaissance!', feels clichéd and diluted, which detracts from the overall boldness of the message. Although it is within the character limit, the execution feels more like a verbose monologue than a compelling tweet, making it less likely to be shared widely.\",\n",
       " 'iteration': 3,\n",
       " 'max_iteration': 3,\n",
       " 'tweet_history': ['In the digital age, humanity, AI, and spirituality coexist like a quirky trio at a cosmic party. AI helps with precision, Spirituality reminds us to breathe, and Humanity holds the dance floor. Together, they craft a future where pixels meet profound purpose. #DigitalBalance',\n",
       "  \"In the digital age, humanity, AI, and spirituality aren't just party guests—they're the magic behind the beat. AI sharpens, spirituality grounds, and humanity dances. Together, they remix our world into a future where code meets conscience. 🚀✨ #DigitalRenaissance\",\n",
       "  \"In the digital age, we're crafting a future where AI sharpens, spirituality grounds, and humanity leads the rhythm. Together, they're remixing reality into a harmonious symphony of code and conscience. Welcome to the #DigitalRenaissance! 🔥🤖✨\"],\n",
       " 'feedback_history': [\"While the tweet attempts to merge technology and spirituality in a creative metaphor, it lacks true originality and boldness, as similar themes have been explored extensively. The imagery of a 'cosmic party' feels clichéd, and the message doesn't provoke significant thought. It stretches slightly in length and could benefit from more punchiness to engage the audience better. Overall, the tweet reads like something seen before, with a generic wrap-up that doesn’t inspire action or reflection.\",\n",
       "  \"While the tweet attempts to blend intricate themes of humanity, AI, and spirituality in a poetic manner, it ultimately comes across as convoluted and lacks the punchiness needed to grab attention. The metaphor of party guests feels clichéd and doesn't add much originality, making it seem like a derivative thought rather than a fresh perspective. Additionally, the length and complexity diminish its viral potential, as the audience might find it hard to engage with. Overall, it could benefit from a clearer, more direct message that strikes harder and resonates more with readers.\",\n",
       "  \"This tweet attempts to blend themes of AI and spirituality in a creative way, but ultimately falls flat on originality, as similar ideas have been over-explored in discussions about technology and humanity. While it has a poetic quality and catches attention with its imagery, it lacks punchiness and could benefit from brevity to enhance impact. The concluding phrase, 'Welcome to the #DigitalRenaissance!', feels clichéd and diluted, which detracts from the overall boldness of the message. Although it is within the character limit, the execution feels more like a verbose monologue than a compelling tweet, making it less likely to be shared widely.\"]}"
      ]
     },
     "execution_count": 87,
     "metadata": {},
     "output_type": "execute_result"
    }
   ],
   "source": [
    "# final State\n",
    "final_state = workflow.invoke(initial_state) # type: ignore\n",
    "final_state"
   ]
  },
  {
   "cell_type": "code",
   "execution_count": 88,
   "id": "7092414d",
   "metadata": {},
   "outputs": [
    {
     "name": "stdout",
     "output_type": "stream",
     "text": [
      "In the digital age, humanity, AI, and spirituality coexist like a quirky trio at a cosmic party. AI helps with precision, Spirituality reminds us to breathe, and Humanity holds the dance floor. Together, they craft a future where pixels meet profound purpose. #DigitalBalance\n",
      "In the digital age, humanity, AI, and spirituality aren't just party guests—they're the magic behind the beat. AI sharpens, spirituality grounds, and humanity dances. Together, they remix our world into a future where code meets conscience. 🚀✨ #DigitalRenaissance\n",
      "In the digital age, we're crafting a future where AI sharpens, spirituality grounds, and humanity leads the rhythm. Together, they're remixing reality into a harmonious symphony of code and conscience. Welcome to the #DigitalRenaissance! 🔥🤖✨\n"
     ]
    }
   ],
   "source": [
    "for tweet in final_state['tweet_history']:\n",
    "    print(tweet)"
   ]
  },
  {
   "cell_type": "code",
   "execution_count": 89,
   "id": "864f92c8",
   "metadata": {},
   "outputs": [
    {
     "name": "stdout",
     "output_type": "stream",
     "text": [
      "While the tweet attempts to merge technology and spirituality in a creative metaphor, it lacks true originality and boldness, as similar themes have been explored extensively. The imagery of a 'cosmic party' feels clichéd, and the message doesn't provoke significant thought. It stretches slightly in length and could benefit from more punchiness to engage the audience better. Overall, the tweet reads like something seen before, with a generic wrap-up that doesn’t inspire action or reflection.\n",
      "While the tweet attempts to blend intricate themes of humanity, AI, and spirituality in a poetic manner, it ultimately comes across as convoluted and lacks the punchiness needed to grab attention. The metaphor of party guests feels clichéd and doesn't add much originality, making it seem like a derivative thought rather than a fresh perspective. Additionally, the length and complexity diminish its viral potential, as the audience might find it hard to engage with. Overall, it could benefit from a clearer, more direct message that strikes harder and resonates more with readers.\n",
      "This tweet attempts to blend themes of AI and spirituality in a creative way, but ultimately falls flat on originality, as similar ideas have been over-explored in discussions about technology and humanity. While it has a poetic quality and catches attention with its imagery, it lacks punchiness and could benefit from brevity to enhance impact. The concluding phrase, 'Welcome to the #DigitalRenaissance!', feels clichéd and diluted, which detracts from the overall boldness of the message. Although it is within the character limit, the execution feels more like a verbose monologue than a compelling tweet, making it less likely to be shared widely.\n"
     ]
    }
   ],
   "source": [
    "for feedback in final_state['feedback_history']:\n",
    "    print(feedback)"
   ]
  }
 ],
 "metadata": {
  "kernelspec": {
   "display_name": "venv",
   "language": "python",
   "name": "python3"
  },
  "language_info": {
   "codemirror_mode": {
    "name": "ipython",
    "version": 3
   },
   "file_extension": ".py",
   "mimetype": "text/x-python",
   "name": "python",
   "nbconvert_exporter": "python",
   "pygments_lexer": "ipython3",
   "version": "3.9.13"
  }
 },
 "nbformat": 4,
 "nbformat_minor": 5
}
