{
 "cells": [
  {
   "cell_type": "code",
   "execution_count": 15,
   "id": "f998f901",
   "metadata": {},
   "outputs": [],
   "source": [
    "from langgraph.graph import StateGraph, START, END\n",
    "from typing import TypedDict\n",
    "from langchain_openai import ChatOpenAI\n",
    "from dotenv import load_dotenv\n",
    "from langgraph.checkpoint.memory import InMemorySaver"
   ]
  },
  {
   "cell_type": "code",
   "execution_count": 16,
   "id": "56e6400f",
   "metadata": {},
   "outputs": [],
   "source": [
    "load_dotenv()\n",
    "\n",
    "model = ChatOpenAI()"
   ]
  },
  {
   "cell_type": "code",
   "execution_count": 17,
   "id": "4c5b31ac",
   "metadata": {},
   "outputs": [],
   "source": [
    "class JokeState(TypedDict):\n",
    "    topic: str\n",
    "    joke: str\n",
    "    explanation: str"
   ]
  },
  {
   "cell_type": "code",
   "execution_count": 18,
   "metadata": {},
   "outputs": [],
   "source": [
    "def generate_joke(state: JokeState) -> JokeState:\n",
    "    prompt = f'Generate a dark humor joke on the topic: {state[\"topic\"]}'\n",
    "    response = model.invoke(prompt).content\n",
    "    \n",
    "    return {'joke': response} #type: ignore"
   ]
  },
  {
   "cell_type": "code",
   "execution_count": 19,
   "id": "20d77830",
   "metadata": {},
   "outputs": [],
   "source": [
    "def generate_explanation(state: JokeState) -> JokeState:\n",
    "    prompt = f'Explain the following joke: {state[\"joke\"]}'\n",
    "    response = model.invoke(prompt).content\n",
    "    \n",
    "    return {'explanation': response} #type: ignore"
   ]
  },
  {
   "cell_type": "code",
   "execution_count": 20,
   "id": "ac683126",
   "metadata": {},
   "outputs": [],
   "source": [
    "# create graph\n",
    "graph = StateGraph(JokeState)\n",
    "\n",
    "# add nodes\n",
    "graph.add_node('generate_joke', generate_joke)\n",
    "graph.add_node('generate_explanation', generate_explanation)\n",
    "\n",
    "# add edges\n",
    "graph.add_edge(START, 'generate_joke')\n",
    "graph.add_edge('generate_joke', 'generate_explanation')\n",
    "graph.add_edge('generate_explanation', END)\n",
    "\n",
    "# add checkpointer\n",
    "checkpointer = InMemorySaver()\n",
    "\n",
    "# compile graph\n",
    "workflow = graph.compile(checkpointer=checkpointer)"
   ]
  },
  {
   "cell_type": "code",
   "execution_count": 21,
   "id": "33a261cb",
   "metadata": {},
   "outputs": [
    {
     "data": {
      "image/png": "[encoded data removed]",
      "text/plain": [
       "<langgraph.graph.state.CompiledStateGraph object at 0x000001A0CDFF1B20>"
      ]
     },
     "execution_count": 21,
     "metadata": {},
     "output_type": "execute_result"
    }
   ],
   "source": [
    "workflow"
   ]
  },
  {
   "cell_type": "code",
   "execution_count": 22,
   "id": "2d927379",
   "metadata": {},
   "outputs": [],
   "source": [
    "# thread\n",
    "config1 = {'configurable': {'thread_id':'1'}}\n",
    "\n",
    "# initial state\n",
    "initial_state = {'topic': 'boys and girl'}\n",
    "\n",
    "final_state = workflow.invoke(initial_state, config=config1) #type: ignore"
   ]
  },
  {
   "cell_type": "code",
   "execution_count": 23,
   "id": "949a0072",
   "metadata": {},
   "outputs": [
    {
     "data": {
      "text/plain": [
       "\"Why did the boy bring a ladder to the girls' school dance? \\nBecause he heard they were looking for someone to fall for.\""
      ]
     },
     "execution_count": 23,
     "metadata": {},
     "output_type": "execute_result"
    }
   ],
   "source": [
    "final_state['joke']"
   ]
  },
  {
   "cell_type": "code",
   "execution_count": null,
   "id": "cf8955a5",
   "metadata": {},
   "outputs": [
    {
     "data": {
      "text/plain": [
       "StateSnapshot(values={'topic': 'boys and girl', 'joke': \"Why did the boy bring a ladder to the girls' school dance? \\nBecause he heard they were looking for someone to fall for.\", 'explanation': 'This joke plays on the double meaning of the phrase \"fall for.\" When someone \"falls for\" someone else, it means they develop feelings for that person. In this case, the boy thinks that the girls at the dance are looking for someone to physically fall for (as in, trip or stumble), so he brings a ladder to try to prevent himself from falling. It\\'s a play on words that sets up a humorous scenario.'}, next=(), config={'configurable': {'thread_id': '1', 'checkpoint_ns': '', 'checkpoint_id': '1f094564-ae89-6ab7-8002-6a1ef41346f0'}}, metadata={'source': 'loop', 'step': 2, 'parents': {}}, created_at='2025-09-18T06:11:19.334162+00:00', parent_config={'configurable': {'thread_id': '1', 'checkpoint_ns': '', 'checkpoint_id': '1f094564-a416-6c8b-8001-87a353a7448c'}}, tasks=(), interrupts=())"
      ]
     },
     "execution_count": 24,
     "metadata": {},
     "output_type": "execute_result"
    }
   ],
   "source": [
    "workflow.get_state(config1) # type: ignore"
   ]
  },
  {
   "cell_type": "code",
   "execution_count": 25,
   "id": "c68907d4",
   "metadata": {},
   "outputs": [
    {
     "data": {
      "text/plain": [
       "[StateSnapshot(values={'topic': 'boys and girl', 'joke': \"Why did the boy bring a ladder to the girls' school dance? \\nBecause he heard they were looking for someone to fall for.\", 'explanation': 'This joke plays on the double meaning of the phrase \"fall for.\" When someone \"falls for\" someone else, it means they develop feelings for that person. In this case, the boy thinks that the girls at the dance are looking for someone to physically fall for (as in, trip or stumble), so he brings a ladder to try to prevent himself from falling. It\\'s a play on words that sets up a humorous scenario.'}, next=(), config={'configurable': {'thread_id': '1', 'checkpoint_ns': '', 'checkpoint_id': '1f094564-ae89-6ab7-8002-6a1ef41346f0'}}, metadata={'source': 'loop', 'step': 2, 'parents': {}}, created_at='2025-09-18T06:11:19.334162+00:00', parent_config={'configurable': {'thread_id': '1', 'checkpoint_ns': '', 'checkpoint_id': '1f094564-a416-6c8b-8001-87a353a7448c'}}, tasks=(), interrupts=()),\n",
       " StateSnapshot(values={'topic': 'boys and girl', 'joke': \"Why did the boy bring a ladder to the girls' school dance? \\nBecause he heard they were looking for someone to fall for.\"}, next=('generate_explanation',), config={'configurable': {'thread_id': '1', 'checkpoint_ns': '', 'checkpoint_id': '1f094564-a416-6c8b-8001-87a353a7448c'}}, metadata={'source': 'loop', 'step': 1, 'parents': {}}, created_at='2025-09-18T06:11:18.238529+00:00', parent_config={'configurable': {'thread_id': '1', 'checkpoint_ns': '', 'checkpoint_id': '1f094564-9216-69cd-8000-1ec9ee7f1998'}}, tasks=(PregelTask(id='b0ba7bc6-23fa-4b3d-72a8-728f422adb92', name='generate_explanation', path=('__pregel_pull', 'generate_explanation'), error=None, interrupts=(), state=None, result={'explanation': 'This joke plays on the double meaning of the phrase \"fall for.\" When someone \"falls for\" someone else, it means they develop feelings for that person. In this case, the boy thinks that the girls at the dance are looking for someone to physically fall for (as in, trip or stumble), so he brings a ladder to try to prevent himself from falling. It\\'s a play on words that sets up a humorous scenario.'}),), interrupts=()),\n",
       " StateSnapshot(values={'topic': 'boys and girl'}, next=('generate_joke',), config={'configurable': {'thread_id': '1', 'checkpoint_ns': '', 'checkpoint_id': '1f094564-9216-69cd-8000-1ec9ee7f1998'}}, metadata={'source': 'loop', 'step': 0, 'parents': {}}, created_at='2025-09-18T06:11:16.351022+00:00', parent_config={'configurable': {'thread_id': '1', 'checkpoint_ns': '', 'checkpoint_id': '1f094564-9207-6e5d-bfff-0ab745d17568'}}, tasks=(PregelTask(id='93bfe0b0-dfc5-a8a7-ba9d-dd870e375e89', name='generate_joke', path=('__pregel_pull', 'generate_joke'), error=None, interrupts=(), state=None, result={'joke': \"Why did the boy bring a ladder to the girls' school dance? \\nBecause he heard they were looking for someone to fall for.\"}),), interrupts=()),\n",
       " StateSnapshot(values={}, next=('__start__',), config={'configurable': {'thread_id': '1', 'checkpoint_ns': '', 'checkpoint_id': '1f094564-9207-6e5d-bfff-0ab745d17568'}}, metadata={'source': 'input', 'step': -1, 'parents': {}}, created_at='2025-09-18T06:11:16.344480+00:00', parent_config=None, tasks=(PregelTask(id='3bd1b705-7495-7ce6-5cab-83e8b9e47a2c', name='__start__', path=('__pregel_pull', '__start__'), error=None, interrupts=(), state=None, result={'topic': 'boys and girl'}),), interrupts=())]"
      ]
     },
     "execution_count": 25,
     "metadata": {},
     "output_type": "execute_result"
    }
   ],
   "source": [
    "list(workflow.get_state_history(config1)) # type: ignore"
   ]
  },
  {
   "cell_type": "code",
   "execution_count": null,
   "id": "49ae3755",
   "metadata": {},
   "outputs": [
    {
     "data": {
      "text/plain": [
       "{'configurable': {'thread_id': '1',\n",
       "  'checkpoint_ns': '',\n",
       "  'checkpoint_id': '1f094591-fdff-6682-8001-68d04f65b67a'}}"
      ]
     },
     "execution_count": 27,
     "metadata": {},
     "output_type": "execute_result"
    }
   ],
   "source": [
    "# time travel to the first node\n",
    "workflow.update_state({'configurable': {'thread_id':'1', 'checkpoint_id':'1f094564-9216-69cd-8000-1ec9ee7f1998','checkpoint_ns': ''}}, {'topic':'gender equality'}) # type: ignore"
   ]
  },
  {
   "cell_type": "code",
   "execution_count": 28,
   "id": "8aef4049",
   "metadata": {},
   "outputs": [
    {
     "data": {
      "text/plain": [
       "[StateSnapshot(values={'topic': 'gender equality'}, next=('generate_joke',), config={'configurable': {'thread_id': '1', 'checkpoint_ns': '', 'checkpoint_id': '1f094591-fdff-6682-8001-68d04f65b67a'}}, metadata={'source': 'update', 'step': 1, 'parents': {}}, created_at='2025-09-18T06:31:35.625689+00:00', parent_config={'configurable': {'thread_id': '1', 'checkpoint_ns': '', 'checkpoint_id': '1f094564-9216-69cd-8000-1ec9ee7f1998'}}, tasks=(PregelTask(id='1dac3b5f-f8f8-ca73-26ff-c5f7bb661665', name='generate_joke', path=('__pregel_pull', 'generate_joke'), error=None, interrupts=(), state=None, result=None),), interrupts=()),\n",
       " StateSnapshot(values={'topic': 'boys and girl', 'joke': \"Why did the boy bring a ladder to the girls' school dance? \\nBecause he heard they were looking for someone to fall for.\", 'explanation': 'This joke plays on the double meaning of the phrase \"fall for.\" When someone \"falls for\" someone else, it means they develop feelings for that person. In this case, the boy thinks that the girls at the dance are looking for someone to physically fall for (as in, trip or stumble), so he brings a ladder to try to prevent himself from falling. It\\'s a play on words that sets up a humorous scenario.'}, next=(), config={'configurable': {'thread_id': '1', 'checkpoint_ns': '', 'checkpoint_id': '1f094564-ae89-6ab7-8002-6a1ef41346f0'}}, metadata={'source': 'loop', 'step': 2, 'parents': {}}, created_at='2025-09-18T06:11:19.334162+00:00', parent_config={'configurable': {'thread_id': '1', 'checkpoint_ns': '', 'checkpoint_id': '1f094564-a416-6c8b-8001-87a353a7448c'}}, tasks=(), interrupts=()),\n",
       " StateSnapshot(values={'topic': 'boys and girl', 'joke': \"Why did the boy bring a ladder to the girls' school dance? \\nBecause he heard they were looking for someone to fall for.\"}, next=('generate_explanation',), config={'configurable': {'thread_id': '1', 'checkpoint_ns': '', 'checkpoint_id': '1f094564-a416-6c8b-8001-87a353a7448c'}}, metadata={'source': 'loop', 'step': 1, 'parents': {}}, created_at='2025-09-18T06:11:18.238529+00:00', parent_config={'configurable': {'thread_id': '1', 'checkpoint_ns': '', 'checkpoint_id': '1f094564-9216-69cd-8000-1ec9ee7f1998'}}, tasks=(PregelTask(id='b0ba7bc6-23fa-4b3d-72a8-728f422adb92', name='generate_explanation', path=('__pregel_pull', 'generate_explanation'), error=None, interrupts=(), state=None, result={'explanation': 'This joke plays on the double meaning of the phrase \"fall for.\" When someone \"falls for\" someone else, it means they develop feelings for that person. In this case, the boy thinks that the girls at the dance are looking for someone to physically fall for (as in, trip or stumble), so he brings a ladder to try to prevent himself from falling. It\\'s a play on words that sets up a humorous scenario.'}),), interrupts=()),\n",
       " StateSnapshot(values={'topic': 'boys and girl'}, next=('generate_joke',), config={'configurable': {'thread_id': '1', 'checkpoint_ns': '', 'checkpoint_id': '1f094564-9216-69cd-8000-1ec9ee7f1998'}}, metadata={'source': 'loop', 'step': 0, 'parents': {}}, created_at='2025-09-18T06:11:16.351022+00:00', parent_config={'configurable': {'thread_id': '1', 'checkpoint_ns': '', 'checkpoint_id': '1f094564-9207-6e5d-bfff-0ab745d17568'}}, tasks=(PregelTask(id='93bfe0b0-dfc5-a8a7-ba9d-dd870e375e89', name='generate_joke', path=('__pregel_pull', 'generate_joke'), error=None, interrupts=(), state=None, result={'joke': \"Why did the boy bring a ladder to the girls' school dance? \\nBecause he heard they were looking for someone to fall for.\"}),), interrupts=()),\n",
       " StateSnapshot(values={}, next=('__start__',), config={'configurable': {'thread_id': '1', 'checkpoint_ns': '', 'checkpoint_id': '1f094564-9207-6e5d-bfff-0ab745d17568'}}, metadata={'source': 'input', 'step': -1, 'parents': {}}, created_at='2025-09-18T06:11:16.344480+00:00', parent_config=None, tasks=(PregelTask(id='3bd1b705-7495-7ce6-5cab-83e8b9e47a2c', name='__start__', path=('__pregel_pull', '__start__'), error=None, interrupts=(), state=None, result={'topic': 'boys and girl'}),), interrupts=())]"
      ]
     },
     "execution_count": 28,
     "metadata": {},
     "output_type": "execute_result"
    }
   ],
   "source": [
    "list(workflow.get_state_history(config1)) # type: ignore"
   ]
  },
  {
   "cell_type": "code",
   "execution_count": 29,
   "id": "297ce303",
   "metadata": {},
   "outputs": [
    {
     "data": {
      "text/plain": [
       "{'topic': 'gender equality',\n",
       " 'joke': \"Why did the feminist bring a ladder to the women's rights march? \\nBecause she heard the glass ceiling was unbreakable.\",\n",
       " 'explanation': 'This joke plays on the idea of the \"glass ceiling,\" which is a metaphor used to describe the invisible barriers that prevent women from advancing in their careers and reaching top positions in certain fields. The feminist brings a ladder to the women\\'s rights march because she believes that the glass ceiling is unbreakable, so she needs a ladder to climb over it instead. It is a humorous way to highlight the challenges that women face in achieving equality and breaking through societal barriers.'}"
      ]
     },
     "execution_count": 29,
     "metadata": {},
     "output_type": "execute_result"
    }
   ],
   "source": [
    "workflow.invoke(None, {'configurable': {'thread_id': '1', 'checkpoint_ns': '', 'checkpoint_id': '1f094591-fdff-6682-8001-68d04f65b67a'}}) # type: ignore"
   ]
  },
  {
   "cell_type": "code",
   "execution_count": 31,
   "id": "5a0cce56",
   "metadata": {},
   "outputs": [
    {
     "data": {
      "text/plain": [
       "[StateSnapshot(values={'topic': 'gender equality', 'joke': \"Why did the feminist bring a ladder to the women's rights march? \\nBecause she heard the glass ceiling was unbreakable.\", 'explanation': 'This joke plays on the idea of the \"glass ceiling,\" which is a metaphor used to describe the invisible barriers that prevent women from advancing in their careers and reaching top positions in certain fields. The feminist brings a ladder to the women\\'s rights march because she believes that the glass ceiling is unbreakable, so she needs a ladder to climb over it instead. It is a humorous way to highlight the challenges that women face in achieving equality and breaking through societal barriers.'}, next=(), config={'configurable': {'thread_id': '1', 'checkpoint_ns': '', 'checkpoint_id': '1f094596-3abb-6ae4-8003-cdd6b0bc07e2'}}, metadata={'source': 'loop', 'step': 3, 'parents': {}}, created_at='2025-09-18T06:33:29.368445+00:00', parent_config={'configurable': {'thread_id': '1', 'checkpoint_ns': '', 'checkpoint_id': '1f094596-2e6c-68a0-8002-fcf3c1c5d9d1'}}, tasks=(), interrupts=()),\n",
       " StateSnapshot(values={'topic': 'gender equality', 'joke': \"Why did the feminist bring a ladder to the women's rights march? \\nBecause she heard the glass ceiling was unbreakable.\"}, next=('generate_explanation',), config={'configurable': {'thread_id': '1', 'checkpoint_ns': '', 'checkpoint_id': '1f094596-2e6c-68a0-8002-fcf3c1c5d9d1'}}, metadata={'source': 'loop', 'step': 2, 'parents': {}}, created_at='2025-09-18T06:33:28.077737+00:00', parent_config={'configurable': {'thread_id': '1', 'checkpoint_ns': '', 'checkpoint_id': '1f094591-fdff-6682-8001-68d04f65b67a'}}, tasks=(PregelTask(id='fe70673e-1842-7c4d-f9d8-94d6fc0fe5c4', name='generate_explanation', path=('__pregel_pull', 'generate_explanation'), error=None, interrupts=(), state=None, result={'explanation': 'This joke plays on the idea of the \"glass ceiling,\" which is a metaphor used to describe the invisible barriers that prevent women from advancing in their careers and reaching top positions in certain fields. The feminist brings a ladder to the women\\'s rights march because she believes that the glass ceiling is unbreakable, so she needs a ladder to climb over it instead. It is a humorous way to highlight the challenges that women face in achieving equality and breaking through societal barriers.'}),), interrupts=()),\n",
       " StateSnapshot(values={'topic': 'gender equality'}, next=('generate_joke',), config={'configurable': {'thread_id': '1', 'checkpoint_ns': '', 'checkpoint_id': '1f094591-fdff-6682-8001-68d04f65b67a'}}, metadata={'source': 'update', 'step': 1, 'parents': {}}, created_at='2025-09-18T06:31:35.625689+00:00', parent_config={'configurable': {'thread_id': '1', 'checkpoint_ns': '', 'checkpoint_id': '1f094564-9216-69cd-8000-1ec9ee7f1998'}}, tasks=(PregelTask(id='1dac3b5f-f8f8-ca73-26ff-c5f7bb661665', name='generate_joke', path=('__pregel_pull', 'generate_joke'), error=None, interrupts=(), state=None, result={'joke': \"Why did the feminist bring a ladder to the women's rights march? \\nBecause she heard the glass ceiling was unbreakable.\"}),), interrupts=()),\n",
       " StateSnapshot(values={'topic': 'boys and girl', 'joke': \"Why did the boy bring a ladder to the girls' school dance? \\nBecause he heard they were looking for someone to fall for.\", 'explanation': 'This joke plays on the double meaning of the phrase \"fall for.\" When someone \"falls for\" someone else, it means they develop feelings for that person. In this case, the boy thinks that the girls at the dance are looking for someone to physically fall for (as in, trip or stumble), so he brings a ladder to try to prevent himself from falling. It\\'s a play on words that sets up a humorous scenario.'}, next=(), config={'configurable': {'thread_id': '1', 'checkpoint_ns': '', 'checkpoint_id': '1f094564-ae89-6ab7-8002-6a1ef41346f0'}}, metadata={'source': 'loop', 'step': 2, 'parents': {}}, created_at='2025-09-18T06:11:19.334162+00:00', parent_config={'configurable': {'thread_id': '1', 'checkpoint_ns': '', 'checkpoint_id': '1f094564-a416-6c8b-8001-87a353a7448c'}}, tasks=(), interrupts=()),\n",
       " StateSnapshot(values={'topic': 'boys and girl', 'joke': \"Why did the boy bring a ladder to the girls' school dance? \\nBecause he heard they were looking for someone to fall for.\"}, next=('generate_explanation',), config={'configurable': {'thread_id': '1', 'checkpoint_ns': '', 'checkpoint_id': '1f094564-a416-6c8b-8001-87a353a7448c'}}, metadata={'source': 'loop', 'step': 1, 'parents': {}}, created_at='2025-09-18T06:11:18.238529+00:00', parent_config={'configurable': {'thread_id': '1', 'checkpoint_ns': '', 'checkpoint_id': '1f094564-9216-69cd-8000-1ec9ee7f1998'}}, tasks=(PregelTask(id='b0ba7bc6-23fa-4b3d-72a8-728f422adb92', name='generate_explanation', path=('__pregel_pull', 'generate_explanation'), error=None, interrupts=(), state=None, result={'explanation': 'This joke plays on the double meaning of the phrase \"fall for.\" When someone \"falls for\" someone else, it means they develop feelings for that person. In this case, the boy thinks that the girls at the dance are looking for someone to physically fall for (as in, trip or stumble), so he brings a ladder to try to prevent himself from falling. It\\'s a play on words that sets up a humorous scenario.'}),), interrupts=()),\n",
       " StateSnapshot(values={'topic': 'boys and girl'}, next=('generate_joke',), config={'configurable': {'thread_id': '1', 'checkpoint_ns': '', 'checkpoint_id': '1f094564-9216-69cd-8000-1ec9ee7f1998'}}, metadata={'source': 'loop', 'step': 0, 'parents': {}}, created_at='2025-09-18T06:11:16.351022+00:00', parent_config={'configurable': {'thread_id': '1', 'checkpoint_ns': '', 'checkpoint_id': '1f094564-9207-6e5d-bfff-0ab745d17568'}}, tasks=(PregelTask(id='93bfe0b0-dfc5-a8a7-ba9d-dd870e375e89', name='generate_joke', path=('__pregel_pull', 'generate_joke'), error=None, interrupts=(), state=None, result={'joke': \"Why did the boy bring a ladder to the girls' school dance? \\nBecause he heard they were looking for someone to fall for.\"}),), interrupts=()),\n",
       " StateSnapshot(values={}, next=('__start__',), config={'configurable': {'thread_id': '1', 'checkpoint_ns': '', 'checkpoint_id': '1f094564-9207-6e5d-bfff-0ab745d17568'}}, metadata={'source': 'input', 'step': -1, 'parents': {}}, created_at='2025-09-18T06:11:16.344480+00:00', parent_config=None, tasks=(PregelTask(id='3bd1b705-7495-7ce6-5cab-83e8b9e47a2c', name='__start__', path=('__pregel_pull', '__start__'), error=None, interrupts=(), state=None, result={'topic': 'boys and girl'}),), interrupts=())]"
      ]
     },
     "execution_count": 31,
     "metadata": {},
     "output_type": "execute_result"
    }
   ],
   "source": [
    "list(workflow.get_state_history(config1)) # type: ignore"
   ]
  }
 ],
 "metadata": {
  "kernelspec": {
   "display_name": "venv",
   "language": "python",
   "name": "python3"
  },
  "language_info": {
   "codemirror_mode": {
    "name": "ipython",
    "version": 3
   },
   "file_extension": ".py",
   "mimetype": "text/x-python",
   "name": "python",
   "nbconvert_exporter": "python",
   "pygments_lexer": "ipython3",
   "version": "3.9.13"
  }
 },
 "nbformat": 4,
 "nbformat_minor": 5
}
