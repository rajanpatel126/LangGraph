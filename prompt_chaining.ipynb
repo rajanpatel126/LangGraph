{
 "cells": [
  {
   "cell_type": "code",
   "execution_count": 28,
   "id": "cecfcf96",
   "metadata": {},
   "outputs": [
    {
     "data": {
      "text/plain": [
       "True"
      ]
     },
     "execution_count": 28,
     "metadata": {},
     "output_type": "execute_result"
    }
   ],
   "source": [
    "from langgraph.graph import StateGraph, START, END\n",
    "from typing import TypedDict\n",
    "from langchain_openai import ChatOpenAI\n",
    "from dotenv import load_dotenv\n",
    "\n",
    "load_dotenv()"
   ]
  },
  {
   "cell_type": "code",
   "execution_count": 29,
   "id": "6822a15f",
   "metadata": {},
   "outputs": [],
   "source": [
    "model = ChatOpenAI()"
   ]
  },
  {
   "cell_type": "code",
   "execution_count": 30,
   "id": "a986ff08",
   "metadata": {},
   "outputs": [],
   "source": [
    "#state\n",
    "class ModelState(TypedDict):\n",
    "    topic: str\n",
    "    outline:str\n",
    "    blog_post: str"
   ]
  },
  {
   "cell_type": "code",
   "execution_count": 31,
   "id": "2a627078",
   "metadata": {},
   "outputs": [],
   "source": [
    "def generate_outline(state: ModelState) -> ModelState:\n",
    "    input = state['topic']\n",
    "    \n",
    "    prompt = f'Generate a brief outline for a blog post on the topic: {input}'\n",
    "    \n",
    "    outline = model.invoke(prompt).content\n",
    "\n",
    "    state['outline'] = outline # type: ignore\n",
    "\n",
    "    return state"
   ]
  },
  {
   "cell_type": "code",
   "execution_count": 32,
   "id": "fb382d1a",
   "metadata": {},
   "outputs": [],
   "source": [
    "def generate_blog(state: ModelState) -> ModelState:\n",
    "    input = state['outline']\n",
    "    topic = state['topic']\n",
    "    \n",
    "    prompt = f'Generate a blog post on the topic: {topic} of 100 words and 2 paragraphs from the following outline\\n: {input}'\n",
    "    \n",
    "    blog_post = model.invoke(prompt).content\n",
    "    \n",
    "    state['blog_post'] = blog_post # type: ignore\n",
    "    \n",
    "    return state"
   ]
  },
  {
   "cell_type": "code",
   "execution_count": 33,
   "metadata": {},
   "outputs": [],
   "source": [
    "# create graph\n",
    "graph = StateGraph(ModelState)\n",
    "\n",
    "# add nodes\n",
    "graph.add_node('topic_outline', generate_outline) #type: ignore\n",
    "graph.add_node('outline_blog', generate_blog) # type: ignore\n",
    "\n",
    "# add edges\n",
    "graph.add_edge(START, 'topic_outline')\n",
    "graph.add_edge('topic_outline', 'outline_blog')\n",
    "graph.add_edge('outline_blog', END)\n",
    "\n",
    "# compile graph\n",
    "workflow = graph.compile()"
   ]
  },
  {
   "cell_type": "code",
   "execution_count": 34,
   "metadata": {},
   "outputs": [
    {
     "data": {
      "image/png": "[encoded data removed]",
      "text/plain": [
       "<IPython.core.display.Image object>"
      ]
     },
     "execution_count": 34,
     "metadata": {},
     "output_type": "execute_result"
    }
   ],
   "source": [
    "from IPython.display import Image\n",
    "Image(workflow.get_graph().draw_mermaid_png())"
   ]
  },
  {
   "cell_type": "code",
   "execution_count": 35,
   "id": "fa3b275d",
   "metadata": {},
   "outputs": [],
   "source": [
    "# initial state\n",
    "initial_state = {'topic': 'Can an AI ever understand subjective human truth, and should every nation build its own AI to control that narrative?'}\n",
    "\n",
    "#final state\n",
    "final_state = workflow.invoke(initial_state)  # type: ignore"
   ]
  },
  {
   "cell_type": "code",
   "execution_count": 36,
   "id": "f83b58ef",
   "metadata": {},
   "outputs": [
    {
     "name": "stdout",
     "output_type": "stream",
     "text": [
      "I. Introduction \n",
      "- Introduce the concept of AI and its capabilities in understanding objective truth \n",
      "- Pose the question of whether AI can ever understand subjective human truth \n",
      "\n",
      "II. The limitations of AI in understanding subjective human truth \n",
      "- Discuss the challenges of programming AI to comprehend emotions, beliefs, and personal experiences \n",
      "- Highlight the importance of empathy and intuition in comprehending subjective truth \n",
      "\n",
      "III. The ethical implications of nations building their own AI for controlling narrative \n",
      "- Examine the potential consequences of allowing AI to shape and control subjective human truth \n",
      "- Discuss the dangers of using AI to manipulate public opinion and suppress dissent \n",
      "\n",
      "IV. The role of AI in enhancing human understanding of subjective truth \n",
      "- Explore ways in which AI can be utilized to facilitate dialogue and promote empathy \n",
      "- Discuss the potential benefits of AI in fostering a more inclusive and diverse narrative \n",
      "\n",
      "V. Conclusion \n",
      "- Revisit the question of whether AI can ever understand subjective human truth \n",
      "- Encourage further research and discussion on the ethical implications of nations building AI for controlling narrative\n"
     ]
    }
   ],
   "source": [
    "print(final_state['outline'])"
   ]
  },
  {
   "cell_type": "code",
   "execution_count": 37,
   "id": "02fff498",
   "metadata": {},
   "outputs": [
    {
     "name": "stdout",
     "output_type": "stream",
     "text": [
      "Artificial Intelligence (AI) has made significant strides in understanding objective truth with the ability to process vast amounts of data and derive logical conclusions. However, the question remains whether AI can truly comprehend subjective human truth. Emotions, beliefs, and personal experiences are difficult to quantify and program into AI, making it challenging for machines to grasp the complexities of human subjectivity. Empathy and intuition play crucial roles in understanding subjective truth, qualities that are inherently human and difficult to replicate in AI.\n",
      "\n",
      "The idea of nations building their own AI to control narrative raises ethical concerns about the manipulation of public opinion and suppression of dissent. Allowing AI to shape and control subjective truth could lead to a homogenized narrative that stifles diversity of thought and expression. There is a danger in relying too heavily on AI to dictate the narrative, as it may perpetuate biases and reinforce existing power structures.\n",
      "\n",
      "While AI may struggle to fully grasp subjective human truth, there is potential for technology to enhance our understanding through facilitating dialogue and promoting empathy. By utilizing AI as a tool to encourage diverse perspectives and foster inclusive narratives, we can expand our collective understanding of subjective truth. It is essential to continue exploring the role of AI in enhancing human understanding while also carefully considering the ethical implications of relying on technology to shape our narratives. As we navigate the complexities of AI and subjective truth, further research and discussion are crucial to ensure that we use technology in a responsible and ethical manner.\n"
     ]
    }
   ],
   "source": [
    "print(final_state['blog_post'])"
   ]
  }
 ],
 "metadata": {
  "kernelspec": {
   "display_name": "venv",
   "language": "python",
   "name": "python3"
  },
  "language_info": {
   "codemirror_mode": {
    "name": "ipython",
    "version": 3
   },
   "file_extension": ".py",
   "mimetype": "text/x-python",
   "name": "python",
   "nbconvert_exporter": "python",
   "pygments_lexer": "ipython3",
   "version": "3.9.13"
  }
 },
 "nbformat": 4,
 "nbformat_minor": 5
}
