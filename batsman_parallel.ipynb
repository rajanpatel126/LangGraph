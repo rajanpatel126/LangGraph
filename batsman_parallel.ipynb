{
 "cells": [
  {
   "cell_type": "code",
   "execution_count": 39,
   "id": "300ce200",
   "metadata": {},
   "outputs": [
    {
     "data": {
      "text/plain": [
       "True"
      ]
     },
     "execution_count": 39,
     "metadata": {},
     "output_type": "execute_result"
    }
   ],
   "source": [
    "from langgraph.graph import StateGraph, START, END\n",
    "from typing import TypedDict\n",
    "from dotenv import load_dotenv\n",
    "\n",
    "load_dotenv()"
   ]
  },
  {
   "cell_type": "code",
   "execution_count": 40,
   "id": "897a875f",
   "metadata": {},
   "outputs": [],
   "source": [
    "class BatsmanState(TypedDict):\n",
    "    runs: int\n",
    "    balls: int\n",
    "    fours: int\n",
    "    sixes: int\n",
    "    \n",
    "    strike_rate:float\n",
    "    balls_per_boundary: float\n",
    "    boundary_percentage: float\n",
    "    summary: str"
   ]
  },
  {
   "cell_type": "markdown",
   "id": "26118221",
   "metadata": {},
   "source": [
    "#### In parallel workflow, after the each node function, do not return the entire state because the same variables might be used in other nodes at the same time, which halted the execution and caused a deadlock. So, after each node function, simply return the updated value of the variable in key-value pair, not the entire state."
   ]
  },
  {
   "cell_type": "code",
   "execution_count": 41,
   "id": "9c04047b",
   "metadata": {},
   "outputs": [],
   "source": [
    "def strikeRate(state: BatsmanState) -> BatsmanState:\n",
    "    sR = (state['runs'] / state['balls']) * 100 if state['balls'] > 0 else 0\n",
    "\n",
    "    return {'strike_rate': sR} # type: ignore"
   ]
  },
  {
   "cell_type": "code",
   "execution_count": 42,
   "id": "8ff4d54e",
   "metadata": {},
   "outputs": [],
   "source": [
    "def ballsPerBoundary(state: BatsmanState) -> BatsmanState:\n",
    "    bPB = state['balls'] / (state['fours'] + state['sixes']) if (state['fours'] + state['sixes']) > 0 else 0\n",
    "\n",
    "    return {'balls_per_boundary': bPB}  # type: ignore"
   ]
  },
  {
   "cell_type": "code",
   "execution_count": 43,
   "id": "eeb99792",
   "metadata": {},
   "outputs": [],
   "source": [
    "def boundaryPercentage(state: BatsmanState) -> BatsmanState:\n",
    "    bP = ((state['fours']*4 + state['sixes']*6) / state['runs']) * 100 if state['runs'] > 0 else 0\n",
    "    \n",
    "    return {'boundary_percentage': bP}  # type: ignore"
   ]
  },
  {
   "cell_type": "code",
   "execution_count": 44,
   "id": "292dbeee",
   "metadata": {},
   "outputs": [],
   "source": [
    "def summary(state: BatsmanState) -> BatsmanState:\n",
    "    summary = f\"\"\"\n",
    "    Total Runs: {state['runs']:.2f}\n",
    "    Total Balls: {state['balls']:.2f}\n",
    "    Fours: {state['fours']:.2f}\n",
    "    Sixes: {state['sixes']:.2f}\n",
    "    Strike Rate: {state['strike_rate']:.2f} %\n",
    "    Balls per Boundary: {state['balls_per_boundary']:.2f} %\n",
    "    Boundary Percentage: {state['boundary_percentage']:.2f} %\n",
    "    \"\"\"\n",
    "    state['summary'] = summary\n",
    "    return state"
   ]
  },
  {
   "cell_type": "code",
   "execution_count": 45,
   "id": "2a9dcf04",
   "metadata": {},
   "outputs": [],
   "source": [
    "# make graph\n",
    "graph = StateGraph(BatsmanState)\n",
    "\n",
    "# add nodes\n",
    "graph.add_node('strike_rate', strikeRate)\n",
    "\n",
    "graph.add_node('balls_per_boundary', ballsPerBoundary)\n",
    "\n",
    "graph.add_node('boundary_percentage', boundaryPercentage)\n",
    "\n",
    "graph.add_node('summary', summary)\n",
    "\n",
    "# add edges\n",
    "graph.add_edge(START, 'strike_rate')\n",
    "graph.add_edge(START, 'balls_per_boundary')\n",
    "graph.add_edge(START, 'boundary_percentage')\n",
    "graph.add_edge('strike_rate', 'summary')\n",
    "graph.add_edge('balls_per_boundary', 'summary')\n",
    "graph.add_edge('boundary_percentage', 'summary')\n",
    "graph.add_edge('summary', END)\n",
    "\n",
    "# compile graph\n",
    "workflow = graph.compile()"
   ]
  },
  {
   "cell_type": "code",
   "execution_count": 46,
   "metadata": {},
   "outputs": [
    {
     "data": {
      "image/png": "[encoded data removed]",
      "text/plain": [
       "<IPython.core.display.Image object>"
      ]
     },
     "execution_count": 46,
     "metadata": {},
     "output_type": "execute_result"
    }
   ],
   "source": [
    "from IPython.display import Image\n",
    "Image(workflow.get_graph().draw_mermaid_png())"
   ]
  },
  {
   "cell_type": "code",
   "execution_count": 47,
   "id": "668655c6",
   "metadata": {},
   "outputs": [
    {
     "name": "stdout",
     "output_type": "stream",
     "text": [
      "\n",
      "    Total Runs: 175.00\n",
      "    Total Balls: 66.00\n",
      "    Fours: 13.00\n",
      "    Sixes: 17.00\n",
      "    Strike Rate: 265.15 %\n",
      "    Balls per Boundary: 2.20 %\n",
      "    Boundary Percentage: 88.00 %\n",
      "    \n"
     ]
    }
   ],
   "source": [
    "# initial state\n",
    "initial_state = {'runs': 175, 'balls':66, 'fours':13, 'sixes':17}\n",
    "\n",
    "# final state\n",
    "final_state = workflow.invoke(initial_state) # type: ignore\n",
    "\n",
    "print(final_state['summary'])"
   ]
  }
 ],
 "metadata": {
  "kernelspec": {
   "display_name": "venv",
   "language": "python",
   "name": "python3"
  },
  "language_info": {
   "codemirror_mode": {
    "name": "ipython",
    "version": 3
   },
   "file_extension": ".py",
   "mimetype": "text/x-python",
   "name": "python",
   "nbconvert_exporter": "python",
   "pygments_lexer": "ipython3",
   "version": "3.9.13"
  }
 },
 "nbformat": 4,
 "nbformat_minor": 5
}
